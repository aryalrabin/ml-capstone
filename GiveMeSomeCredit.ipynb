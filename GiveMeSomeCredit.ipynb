{
 "cells": [
  {
   "cell_type": "markdown",
   "metadata": {},
   "source": [
    "# Machine Learning Engineer Nanodegree - Capstone Project \n",
    "\n",
    "## Give Me Some Credit\n",
    "\n",
    "Financial distress is the term used in corporate finance to indicate a condition when business, household, or individual runs into a tight cash situation and cannot pay the owed amount to creditor on a due date.  Financial institutions use a credit scoring algorithm, which determines  what is the probability of credit default. \n",
    "Machine learning techniques can be an important tool for financial risk management.<br>\n",
    "Predictive machine learning models are able to predict the probability of credit default could reduce the risk for credit originators. Better credit score systems could lead to lower overall borrowing costs. This could benefit both lenders and borrowers.<br>\n",
    "The data that is being used to predict the somebody will experience financial distress will be used from Kaggle competition website __[Give Me Some Credit - data](https://www.kaggle.com/c/GiveMeSomeCredit/data)__. \n"
   ]
  },
  {
   "cell_type": "code",
   "execution_count": 1,
   "metadata": {
    "collapsed": true
   },
   "outputs": [],
   "source": [
    "#import needed libraries \n",
    "import pandas as pd\n",
    "import numpy as np\n",
    "import seaborn as sns\n",
    "import matplotlib.pyplot as plt\n",
    "from collections import Counter\n",
    "%matplotlib inline"
   ]
  },
  {
   "cell_type": "code",
   "execution_count": 2,
   "metadata": {},
   "outputs": [
    {
     "data": {
      "text/html": [
       "<div>\n",
       "<style scoped>\n",
       "    .dataframe tbody tr th:only-of-type {\n",
       "        vertical-align: middle;\n",
       "    }\n",
       "\n",
       "    .dataframe tbody tr th {\n",
       "        vertical-align: top;\n",
       "    }\n",
       "\n",
       "    .dataframe thead th {\n",
       "        text-align: right;\n",
       "    }\n",
       "</style>\n",
       "<table border=\"1\" class=\"dataframe\">\n",
       "  <thead>\n",
       "    <tr style=\"text-align: right;\">\n",
       "      <th></th>\n",
       "      <th>SeriousDlqin2yrs</th>\n",
       "      <th>RevolvingUtilizationOfUnsecuredLines</th>\n",
       "      <th>age</th>\n",
       "      <th>NumberOfTime30-59DaysPastDueNotWorse</th>\n",
       "      <th>DebtRatio</th>\n",
       "      <th>MonthlyIncome</th>\n",
       "      <th>NumberOfOpenCreditLinesAndLoans</th>\n",
       "      <th>NumberOfTimes90DaysLate</th>\n",
       "      <th>NumberRealEstateLoansOrLines</th>\n",
       "      <th>NumberOfTime60-89DaysPastDueNotWorse</th>\n",
       "      <th>NumberOfDependents</th>\n",
       "    </tr>\n",
       "  </thead>\n",
       "  <tbody>\n",
       "    <tr>\n",
       "      <th>0</th>\n",
       "      <td>1</td>\n",
       "      <td>0.766127</td>\n",
       "      <td>45</td>\n",
       "      <td>2</td>\n",
       "      <td>0.802982</td>\n",
       "      <td>9120.0</td>\n",
       "      <td>13</td>\n",
       "      <td>0</td>\n",
       "      <td>6</td>\n",
       "      <td>0</td>\n",
       "      <td>2.0</td>\n",
       "    </tr>\n",
       "    <tr>\n",
       "      <th>1</th>\n",
       "      <td>0</td>\n",
       "      <td>0.957151</td>\n",
       "      <td>40</td>\n",
       "      <td>0</td>\n",
       "      <td>0.121876</td>\n",
       "      <td>2600.0</td>\n",
       "      <td>4</td>\n",
       "      <td>0</td>\n",
       "      <td>0</td>\n",
       "      <td>0</td>\n",
       "      <td>1.0</td>\n",
       "    </tr>\n",
       "    <tr>\n",
       "      <th>2</th>\n",
       "      <td>0</td>\n",
       "      <td>0.658180</td>\n",
       "      <td>38</td>\n",
       "      <td>1</td>\n",
       "      <td>0.085113</td>\n",
       "      <td>3042.0</td>\n",
       "      <td>2</td>\n",
       "      <td>1</td>\n",
       "      <td>0</td>\n",
       "      <td>0</td>\n",
       "      <td>0.0</td>\n",
       "    </tr>\n",
       "    <tr>\n",
       "      <th>3</th>\n",
       "      <td>0</td>\n",
       "      <td>0.233810</td>\n",
       "      <td>30</td>\n",
       "      <td>0</td>\n",
       "      <td>0.036050</td>\n",
       "      <td>3300.0</td>\n",
       "      <td>5</td>\n",
       "      <td>0</td>\n",
       "      <td>0</td>\n",
       "      <td>0</td>\n",
       "      <td>0.0</td>\n",
       "    </tr>\n",
       "    <tr>\n",
       "      <th>4</th>\n",
       "      <td>0</td>\n",
       "      <td>0.907239</td>\n",
       "      <td>49</td>\n",
       "      <td>1</td>\n",
       "      <td>0.024926</td>\n",
       "      <td>63588.0</td>\n",
       "      <td>7</td>\n",
       "      <td>0</td>\n",
       "      <td>1</td>\n",
       "      <td>0</td>\n",
       "      <td>0.0</td>\n",
       "    </tr>\n",
       "  </tbody>\n",
       "</table>\n",
       "</div>"
      ],
      "text/plain": [
       "   SeriousDlqin2yrs  RevolvingUtilizationOfUnsecuredLines  age  \\\n",
       "0                 1                              0.766127   45   \n",
       "1                 0                              0.957151   40   \n",
       "2                 0                              0.658180   38   \n",
       "3                 0                              0.233810   30   \n",
       "4                 0                              0.907239   49   \n",
       "\n",
       "   NumberOfTime30-59DaysPastDueNotWorse  DebtRatio  MonthlyIncome  \\\n",
       "0                                     2   0.802982         9120.0   \n",
       "1                                     0   0.121876         2600.0   \n",
       "2                                     1   0.085113         3042.0   \n",
       "3                                     0   0.036050         3300.0   \n",
       "4                                     1   0.024926        63588.0   \n",
       "\n",
       "   NumberOfOpenCreditLinesAndLoans  NumberOfTimes90DaysLate  \\\n",
       "0                               13                        0   \n",
       "1                                4                        0   \n",
       "2                                2                        1   \n",
       "3                                5                        0   \n",
       "4                                7                        0   \n",
       "\n",
       "   NumberRealEstateLoansOrLines  NumberOfTime60-89DaysPastDueNotWorse  \\\n",
       "0                             6                                     0   \n",
       "1                             0                                     0   \n",
       "2                             0                                     0   \n",
       "3                             0                                     0   \n",
       "4                             1                                     0   \n",
       "\n",
       "   NumberOfDependents  \n",
       "0                 2.0  \n",
       "1                 1.0  \n",
       "2                 0.0  \n",
       "3                 0.0  \n",
       "4                 0.0  "
      ]
     },
     "execution_count": 2,
     "metadata": {},
     "output_type": "execute_result"
    }
   ],
   "source": [
    "# read the training data \n",
    "training_data = pd.read_csv('data/cs-training.csv').drop('Unnamed: 0', axis = 1)\n",
    "training_data.head()"
   ]
  },
  {
   "cell_type": "markdown",
   "metadata": {},
   "source": [
    "## Feature and Data exploration\n",
    "\n",
    "### Features\n",
    "\n",
    "__SeriousDlqin2yrs__ : Person experienced 90 days past due delinquency or worse. <br>\n",
    "__RevolvingUtilizationOfUnsecuredLines__ : \tTotal balance on credit cards and personal lines of credit except real estate and no installment debt like car loans divided by the sum of credit limits. <br>\n",
    "__age__ : \tAge of borrower in years. <br>\n",
    "__NumberOfTime30-59DaysPastDueNotWorse__ : \tNumber of times borrower has been 30-59 days past due but no worse in the last 2 years. <br>\n",
    "__DebtRatio__ : \tMonthly debt payments, alimony,living costs divided by monthy gross income. <br>\n",
    "__MonthlyIncome__ : \tMonthly income <br>\n",
    "__NumberOfOpenCreditLinesAndLoans__ : \tNumber of Open loans (installment like car loan or mortgage) and Lines of credit (e.g. credit cards) <br>\n",
    "__NumberOfTimes90DaysLate__ : \tNumber of times borrower has been 90 days or more past due. <br>\n",
    "__NumberRealEstateLoansOrLines__ : \tNumber of mortgage and real estate loans including home equity lines of credit <br>\n",
    "__NumberOfTime60-89DaysPastDueNotWorse__ : \tNumber of times borrower has been 60-89 days past due but no worse in the last 2 years. <br>\n",
    "__NumberOfDependents__ : \tNumber of dependents in family excluding themselves (spouse, children etc.) <br>"
   ]
  },
  {
   "cell_type": "code",
   "execution_count": 3,
   "metadata": {},
   "outputs": [
    {
     "data": {
      "text/plain": [
       "['SeriousDlqin2yrs',\n",
       " 'RevolvingUtilizationOfUnsecuredLines',\n",
       " 'age',\n",
       " 'NumberOfTime3059DaysPastDueNotWorse',\n",
       " 'DebtRatio',\n",
       " 'MonthlyIncome',\n",
       " 'NumberOfOpenCreditLinesAndLoans',\n",
       " 'NumberOfTimes90DaysLate',\n",
       " 'NumberRealEstateLoansOrLines',\n",
       " 'NumberOfTime6089DaysPastDueNotWorse',\n",
       " 'NumberOfDependents']"
      ]
     },
     "execution_count": 3,
     "metadata": {},
     "output_type": "execute_result"
    }
   ],
   "source": [
    "\n",
    "training_data.columns = map(lambda x : x.replace('-', ''), training_data.columns)\n",
    "training_data.columns.tolist()\n"
   ]
  },
  {
   "cell_type": "markdown",
   "metadata": {},
   "source": [
    "### Exploring and Preprocessing the Data\n",
    "\n",
    "Look at the data and go through the each feature set. Clean up any data there are any outlier."
   ]
  },
  {
   "cell_type": "code",
   "execution_count": 4,
   "metadata": {},
   "outputs": [
    {
     "data": {
      "text/html": [
       "<div>\n",
       "<style scoped>\n",
       "    .dataframe tbody tr th:only-of-type {\n",
       "        vertical-align: middle;\n",
       "    }\n",
       "\n",
       "    .dataframe tbody tr th {\n",
       "        vertical-align: top;\n",
       "    }\n",
       "\n",
       "    .dataframe thead th {\n",
       "        text-align: right;\n",
       "    }\n",
       "</style>\n",
       "<table border=\"1\" class=\"dataframe\">\n",
       "  <thead>\n",
       "    <tr style=\"text-align: right;\">\n",
       "      <th></th>\n",
       "      <th>SeriousDlqin2yrs</th>\n",
       "      <th>RevolvingUtilizationOfUnsecuredLines</th>\n",
       "      <th>age</th>\n",
       "      <th>NumberOfTime3059DaysPastDueNotWorse</th>\n",
       "      <th>DebtRatio</th>\n",
       "      <th>MonthlyIncome</th>\n",
       "      <th>NumberOfOpenCreditLinesAndLoans</th>\n",
       "      <th>NumberOfTimes90DaysLate</th>\n",
       "      <th>NumberRealEstateLoansOrLines</th>\n",
       "      <th>NumberOfTime6089DaysPastDueNotWorse</th>\n",
       "      <th>NumberOfDependents</th>\n",
       "    </tr>\n",
       "  </thead>\n",
       "  <tbody>\n",
       "    <tr>\n",
       "      <th>count</th>\n",
       "      <td>150000.000000</td>\n",
       "      <td>150000.000000</td>\n",
       "      <td>150000.000000</td>\n",
       "      <td>150000.000000</td>\n",
       "      <td>150000.000000</td>\n",
       "      <td>1.202690e+05</td>\n",
       "      <td>150000.000000</td>\n",
       "      <td>150000.000000</td>\n",
       "      <td>150000.000000</td>\n",
       "      <td>150000.000000</td>\n",
       "      <td>146076.000000</td>\n",
       "    </tr>\n",
       "    <tr>\n",
       "      <th>mean</th>\n",
       "      <td>0.066840</td>\n",
       "      <td>6.048438</td>\n",
       "      <td>52.295207</td>\n",
       "      <td>0.421033</td>\n",
       "      <td>353.005076</td>\n",
       "      <td>6.670221e+03</td>\n",
       "      <td>8.452760</td>\n",
       "      <td>0.265973</td>\n",
       "      <td>1.018240</td>\n",
       "      <td>0.240387</td>\n",
       "      <td>0.757222</td>\n",
       "    </tr>\n",
       "    <tr>\n",
       "      <th>std</th>\n",
       "      <td>0.249746</td>\n",
       "      <td>249.755371</td>\n",
       "      <td>14.771866</td>\n",
       "      <td>4.192781</td>\n",
       "      <td>2037.818523</td>\n",
       "      <td>1.438467e+04</td>\n",
       "      <td>5.145951</td>\n",
       "      <td>4.169304</td>\n",
       "      <td>1.129771</td>\n",
       "      <td>4.155179</td>\n",
       "      <td>1.115086</td>\n",
       "    </tr>\n",
       "    <tr>\n",
       "      <th>min</th>\n",
       "      <td>0.000000</td>\n",
       "      <td>0.000000</td>\n",
       "      <td>0.000000</td>\n",
       "      <td>0.000000</td>\n",
       "      <td>0.000000</td>\n",
       "      <td>0.000000e+00</td>\n",
       "      <td>0.000000</td>\n",
       "      <td>0.000000</td>\n",
       "      <td>0.000000</td>\n",
       "      <td>0.000000</td>\n",
       "      <td>0.000000</td>\n",
       "    </tr>\n",
       "    <tr>\n",
       "      <th>25%</th>\n",
       "      <td>0.000000</td>\n",
       "      <td>0.029867</td>\n",
       "      <td>41.000000</td>\n",
       "      <td>0.000000</td>\n",
       "      <td>0.175074</td>\n",
       "      <td>3.400000e+03</td>\n",
       "      <td>5.000000</td>\n",
       "      <td>0.000000</td>\n",
       "      <td>0.000000</td>\n",
       "      <td>0.000000</td>\n",
       "      <td>0.000000</td>\n",
       "    </tr>\n",
       "    <tr>\n",
       "      <th>50%</th>\n",
       "      <td>0.000000</td>\n",
       "      <td>0.154181</td>\n",
       "      <td>52.000000</td>\n",
       "      <td>0.000000</td>\n",
       "      <td>0.366508</td>\n",
       "      <td>5.400000e+03</td>\n",
       "      <td>8.000000</td>\n",
       "      <td>0.000000</td>\n",
       "      <td>1.000000</td>\n",
       "      <td>0.000000</td>\n",
       "      <td>0.000000</td>\n",
       "    </tr>\n",
       "    <tr>\n",
       "      <th>75%</th>\n",
       "      <td>0.000000</td>\n",
       "      <td>0.559046</td>\n",
       "      <td>63.000000</td>\n",
       "      <td>0.000000</td>\n",
       "      <td>0.868254</td>\n",
       "      <td>8.249000e+03</td>\n",
       "      <td>11.000000</td>\n",
       "      <td>0.000000</td>\n",
       "      <td>2.000000</td>\n",
       "      <td>0.000000</td>\n",
       "      <td>1.000000</td>\n",
       "    </tr>\n",
       "    <tr>\n",
       "      <th>max</th>\n",
       "      <td>1.000000</td>\n",
       "      <td>50708.000000</td>\n",
       "      <td>109.000000</td>\n",
       "      <td>98.000000</td>\n",
       "      <td>329664.000000</td>\n",
       "      <td>3.008750e+06</td>\n",
       "      <td>58.000000</td>\n",
       "      <td>98.000000</td>\n",
       "      <td>54.000000</td>\n",
       "      <td>98.000000</td>\n",
       "      <td>20.000000</td>\n",
       "    </tr>\n",
       "  </tbody>\n",
       "</table>\n",
       "</div>"
      ],
      "text/plain": [
       "       SeriousDlqin2yrs  RevolvingUtilizationOfUnsecuredLines            age  \\\n",
       "count     150000.000000                         150000.000000  150000.000000   \n",
       "mean           0.066840                              6.048438      52.295207   \n",
       "std            0.249746                            249.755371      14.771866   \n",
       "min            0.000000                              0.000000       0.000000   \n",
       "25%            0.000000                              0.029867      41.000000   \n",
       "50%            0.000000                              0.154181      52.000000   \n",
       "75%            0.000000                              0.559046      63.000000   \n",
       "max            1.000000                          50708.000000     109.000000   \n",
       "\n",
       "       NumberOfTime3059DaysPastDueNotWorse      DebtRatio  MonthlyIncome  \\\n",
       "count                        150000.000000  150000.000000   1.202690e+05   \n",
       "mean                              0.421033     353.005076   6.670221e+03   \n",
       "std                               4.192781    2037.818523   1.438467e+04   \n",
       "min                               0.000000       0.000000   0.000000e+00   \n",
       "25%                               0.000000       0.175074   3.400000e+03   \n",
       "50%                               0.000000       0.366508   5.400000e+03   \n",
       "75%                               0.000000       0.868254   8.249000e+03   \n",
       "max                              98.000000  329664.000000   3.008750e+06   \n",
       "\n",
       "       NumberOfOpenCreditLinesAndLoans  NumberOfTimes90DaysLate  \\\n",
       "count                    150000.000000            150000.000000   \n",
       "mean                          8.452760                 0.265973   \n",
       "std                           5.145951                 4.169304   \n",
       "min                           0.000000                 0.000000   \n",
       "25%                           5.000000                 0.000000   \n",
       "50%                           8.000000                 0.000000   \n",
       "75%                          11.000000                 0.000000   \n",
       "max                          58.000000                98.000000   \n",
       "\n",
       "       NumberRealEstateLoansOrLines  NumberOfTime6089DaysPastDueNotWorse  \\\n",
       "count                 150000.000000                        150000.000000   \n",
       "mean                       1.018240                             0.240387   \n",
       "std                        1.129771                             4.155179   \n",
       "min                        0.000000                             0.000000   \n",
       "25%                        0.000000                             0.000000   \n",
       "50%                        1.000000                             0.000000   \n",
       "75%                        2.000000                             0.000000   \n",
       "max                       54.000000                            98.000000   \n",
       "\n",
       "       NumberOfDependents  \n",
       "count       146076.000000  \n",
       "mean             0.757222  \n",
       "std              1.115086  \n",
       "min              0.000000  \n",
       "25%              0.000000  \n",
       "50%              0.000000  \n",
       "75%              1.000000  \n",
       "max             20.000000  "
      ]
     },
     "execution_count": 4,
     "metadata": {},
     "output_type": "execute_result"
    }
   ],
   "source": [
    "# describe the data to look at min, max, mean, st dev of each feature\n",
    "training_data.describe()"
   ]
  },
  {
   "cell_type": "code",
   "execution_count": 5,
   "metadata": {},
   "outputs": [
    {
     "data": {
      "text/plain": [
       "SeriousDlqin2yrs                            0\n",
       "RevolvingUtilizationOfUnsecuredLines        0\n",
       "age                                         0\n",
       "NumberOfTime3059DaysPastDueNotWorse         0\n",
       "DebtRatio                                   0\n",
       "MonthlyIncome                           29731\n",
       "NumberOfOpenCreditLinesAndLoans             0\n",
       "NumberOfTimes90DaysLate                     0\n",
       "NumberRealEstateLoansOrLines                0\n",
       "NumberOfTime6089DaysPastDueNotWorse         0\n",
       "NumberOfDependents                       3924\n",
       "dtype: int64"
      ]
     },
     "execution_count": 5,
     "metadata": {},
     "output_type": "execute_result"
    }
   ],
   "source": [
    "# count the number of missing data is each features\n",
    "training_data.apply(lambda x: sum(x.isnull()),axis=0) "
   ]
  },
  {
   "cell_type": "markdown",
   "metadata": {},
   "source": [
    "#### SeriousDlqin2yrs\n",
    "\n",
    "Determining occurrence of \"SeriousDlqin2yrs\", which is a target variable in provided dataset to check how balanced the dataset is? "
   ]
  },
  {
   "cell_type": "code",
   "execution_count": 6,
   "metadata": {
    "scrolled": true
   },
   "outputs": [
    {
     "data": {
      "image/png": "[encoded data removed]",
      "text/plain": [
       "<Figure size 432x288 with 1 Axes>"
      ]
     },
     "metadata": {},
     "output_type": "display_data"
    }
   ],
   "source": [
    "\n",
    "def annotateCount(ax): \n",
    "       for p in ax.patches:\n",
    "            x=p.get_bbox().get_points()[:,0]\n",
    "            y=p.get_bbox().get_points()[1,1]\n",
    "            ax.annotate('{:.2f}%'.format(100.*y/len(training_data)), (x.mean(), y), ha='center', va='bottom')\n",
    "ax=sns.countplot(x = training_data.SeriousDlqin2yrs)\n",
    "annotateCount(ax)                \n",
    "plt.show()"
   ]
  },
  {
   "cell_type": "markdown",
   "metadata": {},
   "source": [
    "#### RevolvingUtilizationOfUnsecuredLines\n",
    "\n",
    "The max value seems to be outlier as it is off from min, 25%, 50% and 75%  by a much. Replacing outlier value greater than 2 with 2 will not change the data. "
   ]
  },
  {
   "cell_type": "code",
   "execution_count": 7,
   "metadata": {},
   "outputs": [
    {
     "data": {
      "text/plain": [
       "count    150000.000000\n",
       "mean          0.324490\n",
       "std           0.364699\n",
       "min           0.000000\n",
       "25%           0.029867\n",
       "50%           0.154181\n",
       "75%           0.559046\n",
       "max           2.000000\n",
       "Name: RevolvingUtilizationOfUnsecuredLines, dtype: float64"
      ]
     },
     "execution_count": 7,
     "metadata": {},
     "output_type": "execute_result"
    }
   ],
   "source": [
    "training_data.RevolvingUtilizationOfUnsecuredLines = np.where(training_data.RevolvingUtilizationOfUnsecuredLines > 2, 2.0,training_data.RevolvingUtilizationOfUnsecuredLines)\n",
    "training_data.RevolvingUtilizationOfUnsecuredLines.describe()"
   ]
  },
  {
   "cell_type": "markdown",
   "metadata": {},
   "source": [
    "#### Age\n",
    "The min value seems to be outlier and will be it with the next minimum value which is 21.  "
   ]
  },
  {
   "cell_type": "code",
   "execution_count": 8,
   "metadata": {},
   "outputs": [
    {
     "data": {
      "text/plain": [
       "<matplotlib.axes._subplots.AxesSubplot at 0x110c047f0>"
      ]
     },
     "execution_count": 8,
     "metadata": {},
     "output_type": "execute_result"
    },
    {
     "data": {
      "image/png": "[encoded data removed]",
      "text/plain": [
       "<Figure size 432x288 with 1 Axes>"
      ]
     },
     "metadata": {},
     "output_type": "display_data"
    }
   ],
   "source": [
    "training_data.age.plot.box()"
   ]
  },
  {
   "cell_type": "code",
   "execution_count": 9,
   "metadata": {},
   "outputs": [
    {
     "data": {
      "text/plain": [
       "count    150000.000000\n",
       "mean         52.295347\n",
       "std          14.771470\n",
       "min          21.000000\n",
       "25%          41.000000\n",
       "50%          52.000000\n",
       "75%          63.000000\n",
       "max         109.000000\n",
       "Name: age, dtype: float64"
      ]
     },
     "execution_count": 9,
     "metadata": {},
     "output_type": "execute_result"
    }
   ],
   "source": [
    "training_data.age = np.where(training_data.age == 0, 21, training_data.age)\n",
    "training_data.age.describe()"
   ]
  },
  {
   "cell_type": "markdown",
   "metadata": {},
   "source": [
    "#### NumberOfTime30-59DaysPastDueNotWorse\n",
    "There seems to be few outlier. The min, 25%, 50% and 75% data is 0 and so is the median. Replacing the outlier with the max value after outlier is ignored will not have any impact on the final prediction."
   ]
  },
  {
   "cell_type": "code",
   "execution_count": 10,
   "metadata": {
    "scrolled": true
   },
   "outputs": [
    {
     "data": {
      "text/plain": [
       "count    150000.000000\n",
       "mean          0.268667\n",
       "std           0.881603\n",
       "min           0.000000\n",
       "25%           0.000000\n",
       "50%           0.000000\n",
       "75%           0.000000\n",
       "max          13.000000\n",
       "Name: NumberOfTime3059DaysPastDueNotWorse, dtype: float64"
      ]
     },
     "execution_count": 10,
     "metadata": {},
     "output_type": "execute_result"
    }
   ],
   "source": [
    "training_data.NumberOfTime3059DaysPastDueNotWorse = np.where(training_data.NumberOfTime3059DaysPastDueNotWorse > 13 , 13,training_data.NumberOfTime3059DaysPastDueNotWorse)\n",
    "training_data.NumberOfTime3059DaysPastDueNotWorse.describe()"
   ]
  },
  {
   "cell_type": "markdown",
   "metadata": {},
   "source": [
    "#### DebtRatio\n",
    "There seems to be few outlier as the max is 329664.00 which is much greater than median and 75%.Replacing outlier value greater than 2 with 2 will not change the data."
   ]
  },
  {
   "cell_type": "code",
   "execution_count": 11,
   "metadata": {
    "scrolled": true
   },
   "outputs": [
    {
     "data": {
      "text/plain": [
       "count    150000.000000\n",
       "mean          0.682428\n",
       "std           0.722898\n",
       "min           0.000000\n",
       "25%           0.175074\n",
       "50%           0.366508\n",
       "75%           0.868254\n",
       "max           2.000000\n",
       "Name: DebtRatio, dtype: float64"
      ]
     },
     "execution_count": 11,
     "metadata": {},
     "output_type": "execute_result"
    }
   ],
   "source": [
    "training_data.DebtRatio = np.where(training_data.DebtRatio > 2, 2.0,training_data.DebtRatio)\n",
    "training_data.DebtRatio.describe()"
   ]
  },
  {
   "cell_type": "markdown",
   "metadata": {},
   "source": [
    "#### MonthlyIncome\n",
    "\n",
    "There are 29731 missing value for monthly income. So, replcaing them with median."
   ]
  },
  {
   "cell_type": "code",
   "execution_count": 12,
   "metadata": {},
   "outputs": [
    {
     "data": {
      "text/plain": [
       "count    1.500000e+05\n",
       "mean     6.418455e+03\n",
       "std      1.289040e+04\n",
       "min      0.000000e+00\n",
       "25%      3.903000e+03\n",
       "50%      5.400000e+03\n",
       "75%      7.400000e+03\n",
       "max      3.008750e+06\n",
       "Name: MonthlyIncome, dtype: float64"
      ]
     },
     "execution_count": 12,
     "metadata": {},
     "output_type": "execute_result"
    }
   ],
   "source": [
    "training_data.MonthlyIncome.fillna(training_data.MonthlyIncome.median(), inplace=True)\n",
    "training_data.MonthlyIncome.describe()"
   ]
  },
  {
   "cell_type": "markdown",
   "metadata": {},
   "source": [
    "#### NumberOfOpenCreditLinesAndLoans\n",
    "\n",
    "The max is 58, whereas the number of open credit line and loan open more than 30 decreases sigfincant. Replacing anything more than 30 by 30 will not impact the final prediction. "
   ]
  },
  {
   "cell_type": "code",
   "execution_count": 13,
   "metadata": {},
   "outputs": [
    {
     "data": {
      "text/plain": [
       "count    150000.000000\n",
       "mean          8.438793\n",
       "std           5.070728\n",
       "min           0.000000\n",
       "25%           5.000000\n",
       "50%           8.000000\n",
       "75%          11.000000\n",
       "max          30.000000\n",
       "Name: NumberOfOpenCreditLinesAndLoans, dtype: float64"
      ]
     },
     "execution_count": 13,
     "metadata": {},
     "output_type": "execute_result"
    }
   ],
   "source": [
    "training_data.NumberOfOpenCreditLinesAndLoans = np.where(training_data.NumberOfOpenCreditLinesAndLoans > 30 , 30,training_data.NumberOfOpenCreditLinesAndLoans)\n",
    "training_data.NumberOfOpenCreditLinesAndLoans.describe()"
   ]
  },
  {
   "cell_type": "markdown",
   "metadata": {},
   "source": [
    "#### NumberOfTimes90DaysLate\n",
    "The max is 98, whereas the median and 75% is 0. The data has 98 and 96 as value, whicg seems to be outlier. Replcaing them with 17 which is the max after removing outlier."
   ]
  },
  {
   "cell_type": "code",
   "execution_count": 14,
   "metadata": {},
   "outputs": [
    {
     "data": {
      "text/plain": [
       "count    150000.00000\n",
       "mean          0.12078\n",
       "std           0.86439\n",
       "min           0.00000\n",
       "25%           0.00000\n",
       "50%           0.00000\n",
       "75%           0.00000\n",
       "max          17.00000\n",
       "Name: NumberOfTimes90DaysLate, dtype: float64"
      ]
     },
     "execution_count": 14,
     "metadata": {},
     "output_type": "execute_result"
    }
   ],
   "source": [
    "training_data.NumberOfTimes90DaysLate = np.where(training_data.NumberOfTimes90DaysLate > 17 , 17,training_data.NumberOfTimes90DaysLate)\n",
    "training_data.NumberOfTimes90DaysLate.describe()"
   ]
  },
  {
   "cell_type": "markdown",
   "metadata": {},
   "source": [
    "#### NumberRealEstateLoansOrLines\n",
    "The max is 58, whereas the number of open credit line and loan open more than 17 decreases sigfincant. Replacing anything more than 17 by 17 will not impact the final prediction. "
   ]
  },
  {
   "cell_type": "code",
   "execution_count": 15,
   "metadata": {},
   "outputs": [
    {
     "data": {
      "text/plain": [
       "count    150000.000000\n",
       "mean          1.017407\n",
       "std           1.111560\n",
       "min           0.000000\n",
       "25%           0.000000\n",
       "50%           1.000000\n",
       "75%           2.000000\n",
       "max          17.000000\n",
       "Name: NumberRealEstateLoansOrLines, dtype: float64"
      ]
     },
     "execution_count": 15,
     "metadata": {},
     "output_type": "execute_result"
    }
   ],
   "source": [
    "training_data.NumberRealEstateLoansOrLines = np.where(training_data.NumberRealEstateLoansOrLines > 17 , 17,training_data.NumberRealEstateLoansOrLines)\n",
    "training_data.NumberRealEstateLoansOrLines.describe()"
   ]
  },
  {
   "cell_type": "markdown",
   "metadata": {},
   "source": [
    "#### NumberOfTime6089DaysPastDueNotWorse\n",
    "\n",
    "The max is 98, whereas the median and 75% is 0. The data has 98 and 96 as value, whicg seems to be outlier. Replcaing them with 11  which is the max after removing outlier."
   ]
  },
  {
   "cell_type": "code",
   "execution_count": 16,
   "metadata": {
    "scrolled": true
   },
   "outputs": [
    {
     "data": {
      "text/plain": [
       "count    150000.000000\n",
       "mean          0.084433\n",
       "std           0.568166\n",
       "min           0.000000\n",
       "25%           0.000000\n",
       "50%           0.000000\n",
       "75%           0.000000\n",
       "max          11.000000\n",
       "Name: NumberOfTime6089DaysPastDueNotWorse, dtype: float64"
      ]
     },
     "execution_count": 16,
     "metadata": {},
     "output_type": "execute_result"
    }
   ],
   "source": [
    "training_data.NumberOfTime6089DaysPastDueNotWorse = np.where(training_data.NumberOfTime6089DaysPastDueNotWorse > 11 , 11,training_data.NumberOfTime6089DaysPastDueNotWorse)\n",
    "training_data.NumberOfTime6089DaysPastDueNotWorse.describe()"
   ]
  },
  {
   "cell_type": "markdown",
   "metadata": {},
   "source": [
    "#### NumberOfDependents\n",
    "\n",
    "There are 3924 missing value for monthly income. So, replacing them with median."
   ]
  },
  {
   "cell_type": "code",
   "execution_count": 17,
   "metadata": {
    "scrolled": false
   },
   "outputs": [
    {
     "data": {
      "text/plain": [
       "count    150000.000000\n",
       "mean          0.737413\n",
       "std           1.107021\n",
       "min           0.000000\n",
       "25%           0.000000\n",
       "50%           0.000000\n",
       "75%           1.000000\n",
       "max          20.000000\n",
       "Name: NumberOfDependents, dtype: float64"
      ]
     },
     "execution_count": 17,
     "metadata": {},
     "output_type": "execute_result"
    }
   ],
   "source": [
    "training_data.NumberOfDependents.fillna(training_data.NumberOfDependents.median(), inplace=True)\n",
    "training_data.NumberOfDependents.describe()"
   ]
  },
  {
   "cell_type": "markdown",
   "metadata": {},
   "source": [
    "## Shuffle and Split Data\n",
    "Now all features variables have been converted into numerical features. As always, we will now split the data (both features and their labels) into training and test sets. 70% of the data will be used for training and 30% for testing."
   ]
  },
  {
   "cell_type": "code",
   "execution_count": 18,
   "metadata": {},
   "outputs": [
    {
     "name": "stdout",
     "output_type": "stream",
     "text": [
      "Training set has 105000 samples.\n",
      "Testing set has 45000 samples.\n"
     ]
    }
   ],
   "source": [
    "from sklearn.model_selection import train_test_split\n",
    "from collections import Sequence\n",
    "\n",
    "X = training_data.drop('SeriousDlqin2yrs', axis=1)\n",
    "y = training_data.SeriousDlqin2yrs\n",
    "\n",
    "X_train, X_test, y_train, y_test = train_test_split(X, y, test_size=0.30)\n",
    "print(\"Training set has {} samples.\".format(X_train.shape[0]))\n",
    "print(\"Testing set has {} samples.\".format(X_test.shape[0]))"
   ]
  },
  {
   "cell_type": "markdown",
   "metadata": {},
   "source": [
    "## Evaluating Model Performance\n",
    "\n",
    "In this section, I will investigate five different algorithms, and determine which is best at modeling the data. Three of these algorithms will be supervised binary classification (random forests, bayesian networks, and logistic regression ), and the fourth and fifth algorithm are modern trusted XGBoost and fast LightGBM algorithms."
   ]
  },
  {
   "cell_type": "code",
   "execution_count": 19,
   "metadata": {},
   "outputs": [
    {
     "name": "stderr",
     "output_type": "stream",
     "text": [
      "/Users/rabin/anaconda3/envs/udacity-capstone/lib/python3.6/site-packages/sklearn/cross_validation.py:41: DeprecationWarning: This module was deprecated in version 0.18 in favor of the model_selection module into which all the refactored classes and functions are moved. Also note that the interface of the new CV iterators are different from that of this module. This module will be removed in 0.20.\n",
      "  \"This module will be removed in 0.20.\", DeprecationWarning)\n"
     ]
    }
   ],
   "source": [
    "from sklearn.ensemble import RandomForestClassifier\n",
    "from sklearn.naive_bayes import GaussianNB\n",
    "from sklearn.linear_model import LogisticRegression\n",
    "from sklearn.metrics import roc_curve, accuracy_score, auc, classification_report, confusion_matrix\n",
    "from sklearn.metrics import precision_score, recall_score\n",
    "import random\n",
    "import datetime as dt\n",
    "import xgboost as xgb\n",
    "import lightgbm as lgb\n",
    "from scipy.spatial.distance import euclidean\n",
    "from sklearn.cross_validation import StratifiedKFold\n",
    "from scipy import interp"
   ]
  },
  {
   "cell_type": "code",
   "execution_count": 20,
   "metadata": {
    "collapsed": true
   },
   "outputs": [],
   "source": [
    "def plot_roc(name, y_test, y_pred_prob_test):\n",
    "    fpr, tpr, thresholds = roc_curve(y_test, y_pred_prob_test)\n",
    "    roc_auc = auc(fpr, tpr)\n",
    "    plt.clf()\n",
    "    plt.plot(fpr, tpr, label='ROC curve (area = %0.6f)' % roc_auc)\n",
    "    plt.plot([0, 1], [0, 1], 'k--')\n",
    "    plt.xlim([0.0, 1.05])\n",
    "    plt.ylim([0.0, 1.05])\n",
    "    plt.xlabel('False Positive Rate')\n",
    "    plt.ylabel('True Positive Rate')\n",
    "    plt.title(name)\n",
    "    plt.legend(loc=\"lower right\")\n",
    "    plt.show()\n",
    "    \n",
    "def display_classification_report(y_test, y_predicted_test):\n",
    "    print(classification_report(y_test, y_predicted_test))\n",
    "\n",
    "    \n",
    "def display_accuracy_report_plot(name, model,  X_train, X_test, y_train, y_test):  \n",
    "    # Train and Test Accuracy\n",
    "    print (\"Train Accuracy : \", accuracy_score(y_train, model.predict(X_train)))\n",
    "    print (\"Test Accuracy  : \", accuracy_score(y_test, model.predict(X_test)))\n",
    "\n",
    "    display_classification_report(y_test, model.predict(X_test))   \n",
    "    plot_roc (name, y_test, model.predict_proba(X_test)[:, 1])"
   ]
  },
  {
   "cell_type": "markdown",
   "metadata": {},
   "source": [
    "### RANDOMFOREST"
   ]
  },
  {
   "cell_type": "code",
   "execution_count": 21,
   "metadata": {},
   "outputs": [
    {
     "name": "stdout",
     "output_type": "stream",
     "text": [
      "Train Accuracy :  0.9907619047619047\n",
      "Test Accuracy  :  0.9324444444444444\n",
      "             precision    recall  f1-score   support\n",
      "\n",
      "          0       0.94      0.99      0.96     41982\n",
      "          1       0.49      0.16      0.24      3018\n",
      "\n",
      "avg / total       0.91      0.93      0.92     45000\n",
      "\n"
     ]
    },
    {
     "data": {
      "image/png": "[encoded data removed]",
      "text/plain": [
       "<Figure size 432x288 with 1 Axes>"
      ]
     },
     "metadata": {},
     "output_type": "display_data"
    }
   ],
   "source": [
    "rf_Model = RandomForestClassifier()\n",
    "rf_Model.fit(X_train, y_train)\n",
    "rf_Model.score(X_test, y_test)    \n",
    "\n",
    "display_accuracy_report_plot(\"Random Forest Classifier\", rf_Model,  X_train, X_test, y_train, y_test)\n"
   ]
  },
  {
   "cell_type": "markdown",
   "metadata": {},
   "source": [
    "### GaussianNB"
   ]
  },
  {
   "cell_type": "code",
   "execution_count": 22,
   "metadata": {},
   "outputs": [
    {
     "name": "stdout",
     "output_type": "stream",
     "text": [
      "Train Accuracy :  0.9308857142857143\n",
      "Test Accuracy  :  0.9316888888888889\n",
      "             precision    recall  f1-score   support\n",
      "\n",
      "          0       0.95      0.98      0.96     41982\n",
      "          1       0.48      0.27      0.35      3018\n",
      "\n",
      "avg / total       0.92      0.93      0.92     45000\n",
      "\n"
     ]
    },
    {
     "data": {
      "image/png": "[encoded data removed]",
      "text/plain": [
       "<Figure size 432x288 with 1 Axes>"
      ]
     },
     "metadata": {},
     "output_type": "display_data"
    }
   ],
   "source": [
    "nb_Model = GaussianNB()\n",
    "nb_Model.fit(X_train, y_train)\n",
    "nb_Model.score(X_test, y_test)  \n",
    "\n",
    "\n",
    "display_accuracy_report_plot(\"Gaussian NB Classifier\", nb_Model,  X_train, X_test, y_train, y_test)"
   ]
  },
  {
   "cell_type": "markdown",
   "metadata": {},
   "source": [
    "### Logistic Regression "
   ]
  },
  {
   "cell_type": "raw",
   "metadata": {},
   "source": [
    "lr_Model  =  LogisticRegression()\n",
    "lr_Model.fit(X_train, y_train)\n",
    "lr_Model.score(X_test, y_test)  \n",
    "\n",
    "\n",
    "display_accuracy_report_plot(\"Logistic Regression  Classifier\", lr_Model,  X_train, X_test, y_train, y_test)"
   ]
  },
  {
   "cell_type": "markdown",
   "metadata": {
    "collapsed": true
   },
   "source": [
    "### XGBoost"
   ]
  },
  {
   "cell_type": "code",
   "execution_count": 23,
   "metadata": {
    "scrolled": false
   },
   "outputs": [
    {
     "name": "stdout",
     "output_type": "stream",
     "text": [
      "Start time:  2018-07-13 23:19:56.097895\n",
      "[0]\ttrain-auc:0.853976\teval-auc:0.839826\n",
      "Multiple eval metrics have been passed: 'eval-auc' will be used for early stopping.\n",
      "\n",
      "Will train until eval-auc hasn't improved in 20 rounds.\n",
      "[1]\ttrain-auc:0.860156\teval-auc:0.846716\n",
      "[2]\ttrain-auc:0.861984\teval-auc:0.847803\n",
      "[3]\ttrain-auc:0.866999\teval-auc:0.852187\n",
      "[4]\ttrain-auc:0.868201\teval-auc:0.852912\n",
      "[5]\ttrain-auc:0.869729\teval-auc:0.853914\n",
      "[6]\ttrain-auc:0.870762\teval-auc:0.854421\n",
      "[7]\ttrain-auc:0.871974\teval-auc:0.854598\n",
      "[8]\ttrain-auc:0.87321\teval-auc:0.855358\n",
      "[9]\ttrain-auc:0.873861\teval-auc:0.855414\n",
      "[10]\ttrain-auc:0.875113\teval-auc:0.855879\n",
      "[11]\ttrain-auc:0.875428\teval-auc:0.855633\n",
      "[12]\ttrain-auc:0.876092\teval-auc:0.855963\n",
      "[13]\ttrain-auc:0.876342\teval-auc:0.856078\n",
      "[14]\ttrain-auc:0.877475\teval-auc:0.856212\n",
      "[15]\ttrain-auc:0.877683\teval-auc:0.85604\n",
      "[16]\ttrain-auc:0.878646\teval-auc:0.856223\n",
      "[17]\ttrain-auc:0.879735\teval-auc:0.856402\n",
      "[18]\ttrain-auc:0.880837\teval-auc:0.856499\n",
      "[19]\ttrain-auc:0.881257\teval-auc:0.856475\n",
      "[20]\ttrain-auc:0.882146\teval-auc:0.856357\n",
      "[21]\ttrain-auc:0.88271\teval-auc:0.856529\n",
      "[22]\ttrain-auc:0.883078\teval-auc:0.85619\n",
      "[23]\ttrain-auc:0.883495\teval-auc:0.856148\n",
      "[24]\ttrain-auc:0.883807\teval-auc:0.856099\n",
      "[25]\ttrain-auc:0.883938\teval-auc:0.856116\n",
      "[26]\ttrain-auc:0.884317\teval-auc:0.856536\n",
      "[27]\ttrain-auc:0.884474\teval-auc:0.856459\n",
      "[28]\ttrain-auc:0.884871\teval-auc:0.855981\n",
      "[29]\ttrain-auc:0.884985\teval-auc:0.85578\n",
      "[30]\ttrain-auc:0.885204\teval-auc:0.855455\n",
      "[31]\ttrain-auc:0.886105\teval-auc:0.855605\n",
      "[32]\ttrain-auc:0.886867\teval-auc:0.855337\n",
      "[33]\ttrain-auc:0.887559\teval-auc:0.855326\n",
      "[34]\ttrain-auc:0.88771\teval-auc:0.855492\n",
      "[35]\ttrain-auc:0.887949\teval-auc:0.85528\n",
      "[36]\ttrain-auc:0.8885\teval-auc:0.855226\n",
      "[37]\ttrain-auc:0.888564\teval-auc:0.855631\n",
      "[38]\ttrain-auc:0.888765\teval-auc:0.855552\n",
      "[39]\ttrain-auc:0.889036\teval-auc:0.855217\n",
      "[40]\ttrain-auc:0.889797\teval-auc:0.854727\n",
      "[41]\ttrain-auc:0.89032\teval-auc:0.854712\n",
      "[42]\ttrain-auc:0.890573\teval-auc:0.854945\n",
      "[43]\ttrain-auc:0.891076\teval-auc:0.854394\n",
      "[44]\ttrain-auc:0.891109\teval-auc:0.854177\n",
      "[45]\ttrain-auc:0.891561\teval-auc:0.853985\n",
      "[46]\ttrain-auc:0.891981\teval-auc:0.854003\n",
      "Stopping. Best iteration:\n",
      "[26]\ttrain-auc:0.884317\teval-auc:0.856536\n",
      "\n",
      "Time took to train:  0:00:03.220337\n",
      "Test Accuracy  :  0.9373555555555556\n",
      "             precision    recall  f1-score   support\n",
      "\n",
      "          0       0.94      0.99      0.97     41982\n",
      "          1       0.61      0.18      0.28      3018\n",
      "\n",
      "avg / total       0.92      0.94      0.92     45000\n",
      "\n"
     ]
    },
    {
     "data": {
      "image/png": "[encoded data removed]",
      "text/plain": [
       "<Figure size 432x288 with 1 Axes>"
      ]
     },
     "metadata": {},
     "output_type": "display_data"
    }
   ],
   "source": [
    "params = {\n",
    "        'eval_metric': 'auc'\n",
    "    }\n",
    "num_boost_round = 50\n",
    "early_stopping_rounds = 20\n",
    "test_size = 0.1\n",
    "\n",
    "dtrain = xgb.DMatrix(X_train, y_train)\n",
    "dtest = xgb.DMatrix(X_test, y_test)\n",
    "\n",
    "watchlist = [(dtrain, 'train'), (dtest, 'eval')]\n",
    "\n",
    "start_time = dt.datetime.now()\n",
    "print(\"Start time: \",start_time)\n",
    "xgb_gbm = xgb.train(params, dtrain, num_boost_round, evals=watchlist, \n",
    "                    early_stopping_rounds=early_stopping_rounds,\n",
    "                    verbose_eval=True)\n",
    "print(\"Time took to train: \", dt.datetime.now()-start_time)\n",
    "\n",
    "prediction = xgb_gbm.predict(xgb.DMatrix(X_test), ntree_limit=xgb_gbm.best_iteration+1)\n",
    "\n",
    "\n",
    "print (\"Test Accuracy  : \", accuracy_score(y_test, prediction.round()))\n",
    "\n",
    "display_classification_report(y_test, prediction.round())\n",
    "plot_roc (\"XGBoost\", y_test, prediction)"
   ]
  },
  {
   "cell_type": "markdown",
   "metadata": {
    "collapsed": true
   },
   "source": [
    "### LightGBM"
   ]
  },
  {
   "cell_type": "code",
   "execution_count": 24,
   "metadata": {},
   "outputs": [
    {
     "name": "stdout",
     "output_type": "stream",
     "text": [
      "Start time:  2018-07-13 23:19:59.475454\n",
      "[1]\tvalid_0's auc: 0.837254\n",
      "Training until validation scores don't improve for 20 rounds.\n",
      "[2]\tvalid_0's auc: 0.843714\n",
      "[3]\tvalid_0's auc: 0.844326\n",
      "[4]\tvalid_0's auc: 0.847415\n",
      "[5]\tvalid_0's auc: 0.848166\n",
      "[6]\tvalid_0's auc: 0.850472\n",
      "[7]\tvalid_0's auc: 0.851162\n",
      "[8]\tvalid_0's auc: 0.851638\n",
      "[9]\tvalid_0's auc: 0.851325\n",
      "[10]\tvalid_0's auc: 0.851538\n",
      "[11]\tvalid_0's auc: 0.852024\n",
      "[12]\tvalid_0's auc: 0.853584\n",
      "[13]\tvalid_0's auc: 0.853921\n",
      "[14]\tvalid_0's auc: 0.854307\n",
      "[15]\tvalid_0's auc: 0.854539\n",
      "[16]\tvalid_0's auc: 0.854604\n",
      "[17]\tvalid_0's auc: 0.854649\n",
      "[18]\tvalid_0's auc: 0.855034\n",
      "[19]\tvalid_0's auc: 0.855361\n",
      "[20]\tvalid_0's auc: 0.855955\n",
      "[21]\tvalid_0's auc: 0.85609\n",
      "[22]\tvalid_0's auc: 0.856314\n",
      "[23]\tvalid_0's auc: 0.856615\n",
      "[24]\tvalid_0's auc: 0.856942\n",
      "[25]\tvalid_0's auc: 0.857108\n",
      "[26]\tvalid_0's auc: 0.857383\n",
      "[27]\tvalid_0's auc: 0.857512\n",
      "[28]\tvalid_0's auc: 0.857944\n",
      "[29]\tvalid_0's auc: 0.858129\n",
      "[30]\tvalid_0's auc: 0.858361\n",
      "[31]\tvalid_0's auc: 0.85845\n",
      "[32]\tvalid_0's auc: 0.858541\n",
      "[33]\tvalid_0's auc: 0.858731\n",
      "[34]\tvalid_0's auc: 0.858804\n",
      "[35]\tvalid_0's auc: 0.858865\n",
      "[36]\tvalid_0's auc: 0.859065\n",
      "[37]\tvalid_0's auc: 0.859064\n",
      "[38]\tvalid_0's auc: 0.859084\n",
      "[39]\tvalid_0's auc: 0.85912\n",
      "[40]\tvalid_0's auc: 0.85924\n",
      "[41]\tvalid_0's auc: 0.859214\n",
      "[42]\tvalid_0's auc: 0.859421\n",
      "[43]\tvalid_0's auc: 0.859449\n",
      "[44]\tvalid_0's auc: 0.859443\n",
      "[45]\tvalid_0's auc: 0.859596\n",
      "[46]\tvalid_0's auc: 0.859776\n",
      "[47]\tvalid_0's auc: 0.859681\n",
      "[48]\tvalid_0's auc: 0.859683\n",
      "[49]\tvalid_0's auc: 0.859733\n",
      "[50]\tvalid_0's auc: 0.859777\n",
      "Did not meet early stopping. Best iteration is:\n",
      "[50]\tvalid_0's auc: 0.859777\n",
      "Time took to train:  0:00:00.659519\n",
      "Test Accuracy  :  0.9372444444444444\n",
      "             precision    recall  f1-score   support\n",
      "\n",
      "          0       0.94      0.99      0.97     41982\n",
      "          1       0.61      0.18      0.28      3018\n",
      "\n",
      "avg / total       0.92      0.94      0.92     45000\n",
      "\n"
     ]
    },
    {
     "data": {
      "image/png": "[encoded data removed]",
      "text/plain": [
       "<Figure size 432x288 with 1 Axes>"
      ]
     },
     "metadata": {},
     "output_type": "display_data"
    }
   ],
   "source": [
    "lgb_train = lgb.Dataset(X_train, y_train)\n",
    "lgb_eval = lgb.Dataset(X_test, y_test, reference=lgb_train)\n",
    "\n",
    "params = {\n",
    "    'task': 'train',\n",
    "    'boosting_type': 'gbdt',\n",
    "    'objective': 'binary',\n",
    "    'metric': 'auc',\n",
    "}\n",
    "num_boost_round=50\n",
    "early_stopping_rounds=20\n",
    "\n",
    "start_time = dt.datetime.now()\n",
    "print(\"Start time: \",start_time)\n",
    "lgb_gbm = lgb.train(params,\n",
    "                lgb_train,\n",
    "                num_boost_round,    \n",
    "                valid_sets=lgb_eval,\n",
    "                early_stopping_rounds=early_stopping_rounds)\n",
    "print(\"Time took to train: \", dt.datetime.now()-start_time)\n",
    "\n",
    "prediction = lgb_gbm.predict(X_test).ravel()\n",
    "\n",
    "print (\"Test Accuracy  : \", accuracy_score(y_test, prediction.round()))\n",
    "display_classification_report(y_test, prediction.round())\n",
    "plot_roc (\"LightGBM\", y_test, prediction)"
   ]
  },
  {
   "cell_type": "code",
   "execution_count": 25,
   "metadata": {},
   "outputs": [
    {
     "name": "stdout",
     "output_type": "stream",
     "text": [
      "Start time:  2018-07-13 23:20:00.342855\n",
      "[1]\tvalid_0's auc: 0.83946\n",
      "Training until validation scores don't improve for 20 rounds.\n",
      "[2]\tvalid_0's auc: 0.842949\n",
      "[3]\tvalid_0's auc: 0.846325\n",
      "[4]\tvalid_0's auc: 0.851268\n",
      "[5]\tvalid_0's auc: 0.852724\n",
      "[6]\tvalid_0's auc: 0.853203\n",
      "[7]\tvalid_0's auc: 0.853677\n",
      "[8]\tvalid_0's auc: 0.855387\n",
      "[9]\tvalid_0's auc: 0.855954\n",
      "[10]\tvalid_0's auc: 0.855916\n",
      "[11]\tvalid_0's auc: 0.856066\n",
      "[12]\tvalid_0's auc: 0.856386\n",
      "[13]\tvalid_0's auc: 0.856798\n",
      "[14]\tvalid_0's auc: 0.856901\n",
      "[15]\tvalid_0's auc: 0.857431\n",
      "[16]\tvalid_0's auc: 0.857644\n",
      "[17]\tvalid_0's auc: 0.858232\n",
      "[18]\tvalid_0's auc: 0.858507\n",
      "[19]\tvalid_0's auc: 0.858658\n",
      "[20]\tvalid_0's auc: 0.858914\n",
      "[21]\tvalid_0's auc: 0.859137\n",
      "[22]\tvalid_0's auc: 0.859257\n",
      "[23]\tvalid_0's auc: 0.859417\n",
      "[24]\tvalid_0's auc: 0.859583\n",
      "[25]\tvalid_0's auc: 0.859543\n",
      "[26]\tvalid_0's auc: 0.85983\n",
      "[27]\tvalid_0's auc: 0.859926\n",
      "[28]\tvalid_0's auc: 0.860069\n",
      "[29]\tvalid_0's auc: 0.860202\n",
      "[30]\tvalid_0's auc: 0.86032\n",
      "[31]\tvalid_0's auc: 0.860332\n",
      "[32]\tvalid_0's auc: 0.860466\n",
      "[33]\tvalid_0's auc: 0.86044\n",
      "[34]\tvalid_0's auc: 0.86046\n",
      "[35]\tvalid_0's auc: 0.86054\n",
      "[36]\tvalid_0's auc: 0.860566\n",
      "[37]\tvalid_0's auc: 0.86056\n",
      "[38]\tvalid_0's auc: 0.860688\n",
      "[39]\tvalid_0's auc: 0.860653\n",
      "[40]\tvalid_0's auc: 0.860641\n",
      "[41]\tvalid_0's auc: 0.860731\n",
      "[42]\tvalid_0's auc: 0.86084\n",
      "[43]\tvalid_0's auc: 0.860926\n",
      "[44]\tvalid_0's auc: 0.860921\n",
      "[45]\tvalid_0's auc: 0.860965\n",
      "[46]\tvalid_0's auc: 0.860977\n",
      "[47]\tvalid_0's auc: 0.861012\n",
      "[48]\tvalid_0's auc: 0.861011\n",
      "[49]\tvalid_0's auc: 0.861009\n",
      "[50]\tvalid_0's auc: 0.861009\n",
      "[51]\tvalid_0's auc: 0.861009\n",
      "[52]\tvalid_0's auc: 0.861009\n",
      "[53]\tvalid_0's auc: 0.861009\n",
      "[54]\tvalid_0's auc: 0.861009\n",
      "[55]\tvalid_0's auc: 0.861009\n",
      "[56]\tvalid_0's auc: 0.861009\n",
      "[57]\tvalid_0's auc: 0.861009\n",
      "[58]\tvalid_0's auc: 0.861009\n",
      "[59]\tvalid_0's auc: 0.861009\n",
      "[60]\tvalid_0's auc: 0.861009\n",
      "[61]\tvalid_0's auc: 0.861009\n",
      "[62]\tvalid_0's auc: 0.861009\n",
      "[63]\tvalid_0's auc: 0.861009\n",
      "[64]\tvalid_0's auc: 0.861009\n",
      "[65]\tvalid_0's auc: 0.861009\n",
      "[66]\tvalid_0's auc: 0.861009\n",
      "[67]\tvalid_0's auc: 0.861009\n",
      "Early stopping, best iteration is:\n",
      "[47]\tvalid_0's auc: 0.861012\n",
      "Time took to train:  0:00:00.648468\n",
      "Test Accuracy  :  0.9377777777777778\n",
      "             precision    recall  f1-score   support\n",
      "\n",
      "          0       0.95      0.99      0.97     41982\n",
      "          1       0.61      0.20      0.30      3018\n",
      "\n",
      "avg / total       0.92      0.94      0.92     45000\n",
      "\n"
     ]
    },
    {
     "data": {
      "image/png": "[encoded data removed]",
      "text/plain": [
       "<Figure size 432x288 with 1 Axes>"
      ]
     },
     "metadata": {},
     "output_type": "display_data"
    }
   ],
   "source": [
    "params = {\n",
    "    'task': 'train',\n",
    "    'boosting_type': 'gbdt',\n",
    "    'objective': 'binary',\n",
    "    'metric':  'auc',\n",
    "    'learning_rate': 0.15,\n",
    "    'feature_fraction': 0.8,\n",
    "    'lambda_l1': 5,\n",
    "    'lambda_l2': 10,\n",
    "    'min_gain_to_split': 0.5,\n",
    "    'min_child_weight': 1,\n",
    "    'min_child_samples': 5,\n",
    "    'max_depth' : 14\n",
    "    }\n",
    "num_boost_round=500\n",
    "early_stopping_rounds=20\n",
    "\n",
    "start_time = dt.datetime.now()\n",
    "print(\"Start time: \",start_time)\n",
    "lgb_gbm = lgb.train(params,\n",
    "                lgb_train,\n",
    "                num_boost_round,    \n",
    "                valid_sets=lgb_eval,\n",
    "                early_stopping_rounds=early_stopping_rounds)\n",
    "print(\"Time took to train: \", dt.datetime.now()-start_time)\n",
    "\n",
    "prediction = lgb_gbm.predict(X_test).ravel()\n",
    "\n",
    "print (\"Test Accuracy  : \", accuracy_score(y_test, prediction.round()))\n",
    "display_classification_report(y_test, prediction.round())\n",
    "plot_roc (\"LightGBM Enhanced\", y_test, prediction)"
   ]
  },
  {
   "cell_type": "markdown",
   "metadata": {},
   "source": [
    "### Feature Importance\n"
   ]
  },
  {
   "cell_type": "code",
   "execution_count": 26,
   "metadata": {},
   "outputs": [
    {
     "data": {
      "image/png": "[encoded data removed]",
      "text/plain": [
       "<Figure size 720x432 with 1 Axes>"
      ]
     },
     "metadata": {},
     "output_type": "display_data"
    }
   ],
   "source": [
    "imp = pd.DataFrame()\n",
    "imp['feature'] = X_train.columns\n",
    "imp['importance'] = lgb_gbm.feature_importance()\n",
    "imp = imp.sort_values(by='importance', ascending=False)\n",
    "\n",
    "plt.figure(figsize=(10, 6))\n",
    "sns.barplot(x=\"importance\", y=\"feature\", \n",
    "            data=imp)\n",
    "plt.show();"
   ]
  },
  {
   "cell_type": "markdown",
   "metadata": {},
   "source": [
    "### Plot the Precision-Recall curve"
   ]
  },
  {
   "cell_type": "code",
   "execution_count": 27,
   "metadata": {
    "collapsed": true
   },
   "outputs": [],
   "source": [
    "def plotCvRocCurve(X, y, classifier, nfolds=5):\n",
    "    cv = StratifiedKFold(y, n_folds=nfolds)\n",
    "\n",
    "    mean_tpr = 0.0\n",
    "    mean_fpr = np.linspace(0, 1, 100)\n",
    "    all_tpr = []\n",
    "\n",
    "    for i, (train, test) in enumerate(cv):\n",
    "        probas_ = lgb_gbm.predict(X.iloc[test])\n",
    "        fpr, tpr, thresholds = roc_curve(y.iloc[test], probas_)\n",
    "        mean_tpr += interp(mean_fpr, fpr, tpr)\n",
    "        mean_tpr[0] = 0.0\n",
    "        roc_auc = auc(fpr, tpr)\n",
    "        plt.plot(fpr, tpr, lw=1, label='ROC fold %d (area = %0.2f)' % (i, roc_auc))\n",
    "\n",
    "    plt.plot([0, 1], [0, 1], '--', color=(0.6, 0.6, 0.6), label='Luck')\n",
    "\n",
    "    mean_tpr /= len(cv)\n",
    "    mean_tpr[-1] = 1.0\n",
    "    mean_auc = auc(mean_fpr, mean_tpr)\n",
    "    plt.plot(mean_fpr, mean_tpr, 'k--',\n",
    "             label='Mean ROC (area = %0.2f)' % mean_auc, lw=2)\n",
    "\n",
    "    plt.xlim([-0.05, 1.05])\n",
    "    plt.ylim([-0.05, 1.05])\n",
    "    plt.xlabel('False Positive Rate')\n",
    "    plt.ylabel('True Positive Rate')\n",
    "    plt.title('CV ROC curve')\n",
    "    plt.legend(loc=\"lower right\")\n",
    "    fig = plt.gcf()\n",
    "\n",
    "\n",
    "    plt.show()\n",
    "\n"
   ]
  },
  {
   "cell_type": "code",
   "execution_count": 28,
   "metadata": {},
   "outputs": [
    {
     "data": {
      "image/png": "[encoded data removed]",
      "text/plain": [
       "<Figure size 432x288 with 1 Axes>"
      ]
     },
     "metadata": {},
     "output_type": "display_data"
    }
   ],
   "source": [
    "plotCvRocCurve(X, y, lgb_gbm)"
   ]
  },
  {
   "cell_type": "code",
   "execution_count": 29,
   "metadata": {
    "collapsed": true
   },
   "outputs": [],
   "source": [
    "def rocZeroOne(y_test, y_predicted_porba):\n",
    "    fpr, tpr, thresholds = roc_curve(y_test, y_predicted_porba)\n",
    "    \n",
    "    best = [0, 1]\n",
    "    dist = []\n",
    "    for (x, y) in zip(fpr, tpr):\n",
    "        dist.append([euclidean([x,y], best)])\n",
    "\n",
    "    bestPoint = [fpr[dist.index(min(dist))], tpr[dist.index(min(dist))]]\n",
    "    \n",
    "    bestCutOff1 = thresholds[list(fpr).index(bestPoint[0])]\n",
    "    bestCutOff2 = thresholds[list(tpr).index(bestPoint[1])]\n",
    "    \n",
    "    print ('Best point on the ROC: TPR = {:0.3f}%, FPR = {:0.3f}%'.format(bestPoint[1]*100, bestPoint[0]*100))\n",
    "    print ( 'Best Cut-Off point: {:0.4f}'.format(bestCutOff1))\n",
    "\n",
    "    plt.plot(dist)\n",
    "    plt.xlabel('Index')\n",
    "    plt.ylabel('Euclidean Distance to the perfect [0,1]')\n",
    "    fig = plt.gcf()\n",
    "   "
   ]
  },
  {
   "cell_type": "code",
   "execution_count": 30,
   "metadata": {},
   "outputs": [
    {
     "name": "stdout",
     "output_type": "stream",
     "text": [
      "Best point on the ROC: TPR = 77.535%, FPR = 21.524%\n",
      "Best Cut-Off point: 0.0628\n"
     ]
    },
    {
     "data": {
      "image/png": "[encoded data removed]",
      "text/plain": [
       "<Figure size 432x288 with 1 Axes>"
      ]
     },
     "metadata": {},
     "output_type": "display_data"
    }
   ],
   "source": [
    "rocZeroOne(y_test, prediction)"
   ]
  },
  {
   "cell_type": "markdown",
   "metadata": {},
   "source": [
    "### Confusion matrix"
   ]
  },
  {
   "cell_type": "code",
   "execution_count": 31,
   "metadata": {
    "collapsed": true
   },
   "outputs": [],
   "source": [
    "def plot_confusion_matrix(y_test, y_pred, title = 'Confusion matrix', cmap=plt.cm.Blues):\n",
    "    \n",
    "    print ('Classification Report:')\n",
    "    print (classification_report(y_test, y_pred))\n",
    "    cm = confusion_matrix(y_test, y_pred)\n",
    "    def plot_confusion_matrix_plot(cm, title = 'Confusion matrix', cmap=plt.cm.Blues):\n",
    "        plt.imshow(cm, interpolation='nearest', cmap=cmap)\n",
    "        plt.title(title)\n",
    "        plt.colorbar()\n",
    "        tick_marks = np.arange(len(y_test.unique()))\n",
    "        plt.xticks(tick_marks, rotation=45)\n",
    "        plt.yticks(tick_marks)\n",
    "        plt.tight_layout()\n",
    "        plt.ylabel('True label')\n",
    "        plt.xlabel('Predicted label')\n",
    "    \n",
    "    print ('\\n','Confusion matrix, without normalization: ','\\n')\n",
    "    print (cm)\n",
    "    plot_confusion_matrix_plot(cm=cm)\n",
    "    \n",
    "    cm_normalized = cm.astype('float') / cm.sum(axis=1)[:, np.newaxis]\n",
    "    print('\\n','Normalized confusion matrix','\\n',)\n",
    "    print(cm_normalized)\n",
    "    plt.figure()\n",
    "    plot_confusion_matrix_plot(cm_normalized, title='Normalized confusion matrix')\n",
    "\n",
    "def makePredThresh(prediction, thr = 0.5):\n",
    "    final = []\n",
    "    for p in prediction:\n",
    "        if p >= thr:\n",
    "            final.append(1)\n",
    "        else:\n",
    "            final.append(0)\n",
    "    \n",
    "    return final"
   ]
  },
  {
   "cell_type": "code",
   "execution_count": 32,
   "metadata": {},
   "outputs": [
    {
     "name": "stdout",
     "output_type": "stream",
     "text": [
      "Classification Report:\n",
      "             precision    recall  f1-score   support\n",
      "\n",
      "          0       0.98      0.79      0.87     41982\n",
      "          1       0.21      0.77      0.33      3018\n",
      "\n",
      "avg / total       0.93      0.79      0.84     45000\n",
      "\n",
      "\n",
      " Confusion matrix, without normalization:  \n",
      "\n",
      "[[33075  8907]\n",
      " [  691  2327]]\n",
      "\n",
      " Normalized confusion matrix \n",
      "\n",
      "[[0.78783764 0.21216236]\n",
      " [0.22895958 0.77104042]]\n"
     ]
    },
    {
     "data": {
      "image/png": "[encoded data removed]",
      "text/plain": [
       "<Figure size 432x288 with 2 Axes>"
      ]
     },
     "metadata": {},
     "output_type": "display_data"
    },
    {
     "data": {
      "image/png": "[encoded data removed]",
      "text/plain": [
       "<Figure size 432x288 with 2 Axes>"
      ]
     },
     "metadata": {},
     "output_type": "display_data"
    }
   ],
   "source": [
    "\n",
    "pred = makePredThresh(prediction, thr=0.0638)\n",
    "plot_confusion_matrix(y_test, pred)"
   ]
  },
  {
   "cell_type": "markdown",
   "metadata": {},
   "source": [
    "## Read the testing data and export the prediction\n",
    "\n",
    "The testing data needs to be read and then processed to clean the outlier and then use the selected model to predict. and generate the prediction. The Auccuracy of XGBoost and LightGBM seems to be almost same wheras the speed to train 50 rounds with LightGBM is 5X faster than XGBoost. LightGBM will be ny selected model to use to predit the test data."
   ]
  },
  {
   "cell_type": "code",
   "execution_count": 33,
   "metadata": {},
   "outputs": [
    {
     "data": {
      "text/html": [
       "<div>\n",
       "<style scoped>\n",
       "    .dataframe tbody tr th:only-of-type {\n",
       "        vertical-align: middle;\n",
       "    }\n",
       "\n",
       "    .dataframe tbody tr th {\n",
       "        vertical-align: top;\n",
       "    }\n",
       "\n",
       "    .dataframe thead th {\n",
       "        text-align: right;\n",
       "    }\n",
       "</style>\n",
       "<table border=\"1\" class=\"dataframe\">\n",
       "  <thead>\n",
       "    <tr style=\"text-align: right;\">\n",
       "      <th></th>\n",
       "      <th>RevolvingUtilizationOfUnsecuredLines</th>\n",
       "      <th>age</th>\n",
       "      <th>NumberOfTime3059DaysPastDueNotWorse</th>\n",
       "      <th>DebtRatio</th>\n",
       "      <th>MonthlyIncome</th>\n",
       "      <th>NumberOfOpenCreditLinesAndLoans</th>\n",
       "      <th>NumberOfTimes90DaysLate</th>\n",
       "      <th>NumberRealEstateLoansOrLines</th>\n",
       "      <th>NumberOfTime6089DaysPastDueNotWorse</th>\n",
       "      <th>NumberOfDependents</th>\n",
       "    </tr>\n",
       "  </thead>\n",
       "  <tbody>\n",
       "    <tr>\n",
       "      <th>0</th>\n",
       "      <td>0.885519</td>\n",
       "      <td>43</td>\n",
       "      <td>0</td>\n",
       "      <td>0.177513</td>\n",
       "      <td>5700.0</td>\n",
       "      <td>4</td>\n",
       "      <td>0</td>\n",
       "      <td>0</td>\n",
       "      <td>0</td>\n",
       "      <td>0.0</td>\n",
       "    </tr>\n",
       "    <tr>\n",
       "      <th>1</th>\n",
       "      <td>0.463295</td>\n",
       "      <td>57</td>\n",
       "      <td>0</td>\n",
       "      <td>0.527237</td>\n",
       "      <td>9141.0</td>\n",
       "      <td>15</td>\n",
       "      <td>0</td>\n",
       "      <td>4</td>\n",
       "      <td>0</td>\n",
       "      <td>2.0</td>\n",
       "    </tr>\n",
       "    <tr>\n",
       "      <th>2</th>\n",
       "      <td>0.043275</td>\n",
       "      <td>59</td>\n",
       "      <td>0</td>\n",
       "      <td>0.687648</td>\n",
       "      <td>5083.0</td>\n",
       "      <td>12</td>\n",
       "      <td>0</td>\n",
       "      <td>1</td>\n",
       "      <td>0</td>\n",
       "      <td>2.0</td>\n",
       "    </tr>\n",
       "    <tr>\n",
       "      <th>3</th>\n",
       "      <td>0.280308</td>\n",
       "      <td>38</td>\n",
       "      <td>1</td>\n",
       "      <td>0.925961</td>\n",
       "      <td>3200.0</td>\n",
       "      <td>7</td>\n",
       "      <td>0</td>\n",
       "      <td>2</td>\n",
       "      <td>0</td>\n",
       "      <td>0.0</td>\n",
       "    </tr>\n",
       "    <tr>\n",
       "      <th>4</th>\n",
       "      <td>1.000000</td>\n",
       "      <td>27</td>\n",
       "      <td>0</td>\n",
       "      <td>0.019917</td>\n",
       "      <td>3865.0</td>\n",
       "      <td>4</td>\n",
       "      <td>0</td>\n",
       "      <td>0</td>\n",
       "      <td>0</td>\n",
       "      <td>1.0</td>\n",
       "    </tr>\n",
       "  </tbody>\n",
       "</table>\n",
       "</div>"
      ],
      "text/plain": [
       "   RevolvingUtilizationOfUnsecuredLines  age  \\\n",
       "0                              0.885519   43   \n",
       "1                              0.463295   57   \n",
       "2                              0.043275   59   \n",
       "3                              0.280308   38   \n",
       "4                              1.000000   27   \n",
       "\n",
       "   NumberOfTime3059DaysPastDueNotWorse  DebtRatio  MonthlyIncome  \\\n",
       "0                                    0   0.177513         5700.0   \n",
       "1                                    0   0.527237         9141.0   \n",
       "2                                    0   0.687648         5083.0   \n",
       "3                                    1   0.925961         3200.0   \n",
       "4                                    0   0.019917         3865.0   \n",
       "\n",
       "   NumberOfOpenCreditLinesAndLoans  NumberOfTimes90DaysLate  \\\n",
       "0                                4                        0   \n",
       "1                               15                        0   \n",
       "2                               12                        0   \n",
       "3                                7                        0   \n",
       "4                                4                        0   \n",
       "\n",
       "   NumberRealEstateLoansOrLines  NumberOfTime6089DaysPastDueNotWorse  \\\n",
       "0                             0                                    0   \n",
       "1                             4                                    0   \n",
       "2                             1                                    0   \n",
       "3                             2                                    0   \n",
       "4                             0                                    0   \n",
       "\n",
       "   NumberOfDependents  \n",
       "0                 0.0  \n",
       "1                 2.0  \n",
       "2                 2.0  \n",
       "3                 0.0  \n",
       "4                 1.0  "
      ]
     },
     "execution_count": 33,
     "metadata": {},
     "output_type": "execute_result"
    }
   ],
   "source": [
    "test_data = pd.read_csv('data/cs-test.csv')\n",
    "index = test_data['Unnamed: 0']\n",
    "testing_data = test_data.drop('Unnamed: 0', axis = 1)\n",
    "testing_data.columns = map(lambda x : x.replace('-', ''), testing_data.columns)\n",
    "testing_data.columns.tolist()\n",
    "\n",
    "# clean the Outlier as above with the testing data\n",
    "\n",
    "#RevolvingUtilizationOfUnsecuredLines \n",
    "testing_data.RevolvingUtilizationOfUnsecuredLines = np.where(testing_data.RevolvingUtilizationOfUnsecuredLines > 2, 2.0,testing_data.RevolvingUtilizationOfUnsecuredLines)\n",
    "\n",
    "#age\n",
    "testing_data.age = np.where(testing_data.age == 0, 21, testing_data.age)\n",
    "\n",
    "#NumberOfTime3059DaysPastDueNotWorse\n",
    "testing_data.NumberOfTime3059DaysPastDueNotWorse = np.where(testing_data.NumberOfTime3059DaysPastDueNotWorse > 13 , 13,testing_data.NumberOfTime3059DaysPastDueNotWorse)\n",
    "\n",
    "#Debt Ratio\n",
    "testing_data.DebtRatio = np.where(testing_data.DebtRatio > 2, 2.0,testing_data.DebtRatio)\n",
    "\n",
    "#MonthlyIncome\n",
    "testing_data.MonthlyIncome.fillna(testing_data.MonthlyIncome.median(), inplace=True)\n",
    "\n",
    "#NumberOfOpenCreditLinesAndLoans\n",
    "testing_data.NumberOfOpenCreditLinesAndLoans = np.where(testing_data.NumberOfOpenCreditLinesAndLoans > 30 , 30,testing_data.NumberOfOpenCreditLinesAndLoans)\n",
    "\n",
    "#NumberOfTimes90DaysLate\n",
    "testing_data.NumberOfTimes90DaysLate = np.where(testing_data.NumberOfTimes90DaysLate > 17 , 17,testing_data.NumberOfTimes90DaysLate)\n",
    "\n",
    "#NumberRealEstateLoansOrLines\n",
    "testing_data.NumberRealEstateLoansOrLines = np.where(testing_data.NumberRealEstateLoansOrLines > 17 , 17,testing_data.NumberRealEstateLoansOrLines)\n",
    "\n",
    "#NumberOfTime6089DaysPastDueNotWorse\n",
    "testing_data.NumberOfTime6089DaysPastDueNotWorse = np.where(testing_data.NumberOfTime6089DaysPastDueNotWorse > 11 , 11,testing_data.NumberOfTime6089DaysPastDueNotWorse)\n",
    "\n",
    "#NumberOfDependents\n",
    "testing_data.NumberOfDependents.fillna(testing_data.NumberOfDependents.median(), inplace=True)\n",
    "\n",
    "testing_data = testing_data.drop('SeriousDlqin2yrs', axis=1)\n",
    "testing_data.head()\n"
   ]
  },
  {
   "cell_type": "markdown",
   "metadata": {},
   "source": [
    "### Predict testing data with select LightGBM\n"
   ]
  },
  {
   "cell_type": "code",
   "execution_count": 34,
   "metadata": {},
   "outputs": [],
   "source": [
    "test_prediction = lgb_gbm.predict(testing_data).ravel()\n",
    "\n",
    "submission = pd.DataFrame({ 'Id': index,\n",
    "                            'Probability': test_prediction })\n",
    "submission.to_csv(\"submission.csv\", index=False)"
   ]
  }
 ],
 "metadata": {
  "kernelspec": {
   "display_name": "ML Capstone",
   "language": "python",
   "name": "udacity-capstone"
  },
  "language_info": {
   "codemirror_mode": {
    "name": "ipython",
    "version": 3
   },
   "file_extension": ".py",
   "mimetype": "text/x-python",
   "name": "python",
   "nbconvert_exporter": "python",
   "pygments_lexer": "ipython3",
   "version": "3.6.6"
  }
 },
 "nbformat": 4,
 "nbformat_minor": 2
}
